{
 "cells": [
  {
   "cell_type": "code",
   "execution_count": 57,
   "metadata": {},
   "outputs": [
    {
     "name": "stdout",
     "output_type": "stream",
     "text": [
      "Collecting seaborn\n",
      "  Obtaining dependency information for seaborn from https://files.pythonhosted.org/packages/7b/e5/83fcd7e9db036c179e0352bfcd20f81d728197a16f883e7b90307a88e65e/seaborn-0.13.0-py3-none-any.whl.metadata\n",
      "  Downloading seaborn-0.13.0-py3-none-any.whl.metadata (5.3 kB)\n",
      "Requirement already satisfied: numpy!=1.24.0,>=1.20 in c:\\users\\sulic\\anaconda3\\envs\\pythonproject\\lib\\site-packages (from seaborn) (1.26.1)\n",
      "Requirement already satisfied: pandas>=1.2 in c:\\users\\sulic\\anaconda3\\envs\\pythonproject\\lib\\site-packages (from seaborn) (2.1.2)\n",
      "Requirement already satisfied: matplotlib!=3.6.1,>=3.3 in c:\\users\\sulic\\anaconda3\\envs\\pythonproject\\lib\\site-packages (from seaborn) (3.8.0)\n",
      "Requirement already satisfied: contourpy>=1.0.1 in c:\\users\\sulic\\anaconda3\\envs\\pythonproject\\lib\\site-packages (from matplotlib!=3.6.1,>=3.3->seaborn) (1.1.1)\n",
      "Requirement already satisfied: cycler>=0.10 in c:\\users\\sulic\\anaconda3\\envs\\pythonproject\\lib\\site-packages (from matplotlib!=3.6.1,>=3.3->seaborn) (0.12.1)\n",
      "Requirement already satisfied: fonttools>=4.22.0 in c:\\users\\sulic\\anaconda3\\envs\\pythonproject\\lib\\site-packages (from matplotlib!=3.6.1,>=3.3->seaborn) (4.43.1)\n",
      "Requirement already satisfied: kiwisolver>=1.0.1 in c:\\users\\sulic\\anaconda3\\envs\\pythonproject\\lib\\site-packages (from matplotlib!=3.6.1,>=3.3->seaborn) (1.4.5)\n",
      "Requirement already satisfied: packaging>=20.0 in c:\\users\\sulic\\anaconda3\\envs\\pythonproject\\lib\\site-packages (from matplotlib!=3.6.1,>=3.3->seaborn) (23.2)\n",
      "Requirement already satisfied: pillow>=6.2.0 in c:\\users\\sulic\\anaconda3\\envs\\pythonproject\\lib\\site-packages (from matplotlib!=3.6.1,>=3.3->seaborn) (10.1.0)\n",
      "Requirement already satisfied: pyparsing>=2.3.1 in c:\\users\\sulic\\anaconda3\\envs\\pythonproject\\lib\\site-packages (from matplotlib!=3.6.1,>=3.3->seaborn) (3.1.1)\n",
      "Requirement already satisfied: python-dateutil>=2.7 in c:\\users\\sulic\\anaconda3\\envs\\pythonproject\\lib\\site-packages (from matplotlib!=3.6.1,>=3.3->seaborn) (2.8.2)\n",
      "Requirement already satisfied: pytz>=2020.1 in c:\\users\\sulic\\anaconda3\\envs\\pythonproject\\lib\\site-packages (from pandas>=1.2->seaborn) (2023.3.post1)\n",
      "Requirement already satisfied: tzdata>=2022.1 in c:\\users\\sulic\\anaconda3\\envs\\pythonproject\\lib\\site-packages (from pandas>=1.2->seaborn) (2023.3)\n",
      "Requirement already satisfied: six>=1.5 in c:\\users\\sulic\\anaconda3\\envs\\pythonproject\\lib\\site-packages (from python-dateutil>=2.7->matplotlib!=3.6.1,>=3.3->seaborn) (1.16.0)\n",
      "Downloading seaborn-0.13.0-py3-none-any.whl (294 kB)\n",
      "   ---------------------------------------- 0.0/294.6 kB ? eta -:--:--\n",
      "   - -------------------------------------- 10.2/294.6 kB ? eta -:--:--\n",
      "   ----- --------------------------------- 41.0/294.6 kB 487.6 kB/s eta 0:00:01\n",
      "   ------------------------------ --------- 225.3/294.6 kB 2.3 MB/s eta 0:00:01\n",
      "   ---------------------------------------- 294.6/294.6 kB 2.3 MB/s eta 0:00:00\n",
      "Installing collected packages: seaborn\n",
      "Successfully installed seaborn-0.13.0\n",
      "Note: you may need to restart the kernel to use updated packages.\n"
     ]
    }
   ],
   "source": [
    "%pip install seaborn"
   ]
  },
  {
   "cell_type": "code",
   "execution_count": 77,
   "metadata": {},
   "outputs": [
    {
     "name": "stdout",
     "output_type": "stream",
     "text": [
      "Requirement already satisfied: matplotlib in c:\\users\\sulic\\anaconda3\\envs\\pythonproject\\lib\\site-packages (3.8.0)\n",
      "Requirement already satisfied: contourpy>=1.0.1 in c:\\users\\sulic\\anaconda3\\envs\\pythonproject\\lib\\site-packages (from matplotlib) (1.1.1)\n",
      "Requirement already satisfied: cycler>=0.10 in c:\\users\\sulic\\anaconda3\\envs\\pythonproject\\lib\\site-packages (from matplotlib) (0.12.1)\n",
      "Requirement already satisfied: fonttools>=4.22.0 in c:\\users\\sulic\\anaconda3\\envs\\pythonproject\\lib\\site-packages (from matplotlib) (4.43.1)\n",
      "Requirement already satisfied: kiwisolver>=1.0.1 in c:\\users\\sulic\\anaconda3\\envs\\pythonproject\\lib\\site-packages (from matplotlib) (1.4.5)\n",
      "Requirement already satisfied: numpy<2,>=1.21 in c:\\users\\sulic\\anaconda3\\envs\\pythonproject\\lib\\site-packages (from matplotlib) (1.26.1)\n",
      "Requirement already satisfied: packaging>=20.0 in c:\\users\\sulic\\anaconda3\\envs\\pythonproject\\lib\\site-packages (from matplotlib) (23.2)\n",
      "Requirement already satisfied: pillow>=6.2.0 in c:\\users\\sulic\\anaconda3\\envs\\pythonproject\\lib\\site-packages (from matplotlib) (10.1.0)\n",
      "Requirement already satisfied: pyparsing>=2.3.1 in c:\\users\\sulic\\anaconda3\\envs\\pythonproject\\lib\\site-packages (from matplotlib) (3.1.1)\n",
      "Requirement already satisfied: python-dateutil>=2.7 in c:\\users\\sulic\\anaconda3\\envs\\pythonproject\\lib\\site-packages (from matplotlib) (2.8.2)\n",
      "Requirement already satisfied: six>=1.5 in c:\\users\\sulic\\anaconda3\\envs\\pythonproject\\lib\\site-packages (from python-dateutil>=2.7->matplotlib) (1.16.0)\n",
      "Note: you may need to restart the kernel to use updated packages.\n"
     ]
    }
   ],
   "source": [
    "%pip install matplotlib"
   ]
  },
  {
   "cell_type": "code",
   "execution_count": 12,
   "metadata": {},
   "outputs": [
    {
     "name": "stdout",
     "output_type": "stream",
     "text": [
      "Collecting pandas\n",
      "  Obtaining dependency information for pandas from https://files.pythonhosted.org/packages/c4/3a/b84f90ba24d50cbbe79982d5298fb82f6208e2d85bed86b165192fc0f620/pandas-2.1.2-cp310-cp310-win_amd64.whl.metadata\n",
      "  Downloading pandas-2.1.2-cp310-cp310-win_amd64.whl.metadata (18 kB)\n",
      "Collecting numpy<2,>=1.22.4 (from pandas)\n",
      "  Obtaining dependency information for numpy<2,>=1.22.4 from https://files.pythonhosted.org/packages/57/09/fe9282ffb0217176b0185900945189b6beaec4f94ff46afb76bcd9b68e30/numpy-1.26.1-cp310-cp310-win_amd64.whl.metadata\n",
      "  Downloading numpy-1.26.1-cp310-cp310-win_amd64.whl.metadata (61 kB)\n",
      "     ---------------------------------------- 0.0/61.2 kB ? eta -:--:--\n",
      "     ------------------- ------------------ 30.7/61.2 kB 640.0 kB/s eta 0:00:01\n",
      "     -------------------------------------- 61.2/61.2 kB 808.8 kB/s eta 0:00:00\n",
      "Requirement already satisfied: python-dateutil>=2.8.2 in c:\\users\\sulic\\anaconda3\\envs\\pythonproject\\lib\\site-packages (from pandas) (2.8.2)\n",
      "Collecting pytz>=2020.1 (from pandas)\n",
      "  Obtaining dependency information for pytz>=2020.1 from https://files.pythonhosted.org/packages/32/4d/aaf7eff5deb402fd9a24a1449a8119f00d74ae9c2efa79f8ef9994261fc2/pytz-2023.3.post1-py2.py3-none-any.whl.metadata\n",
      "  Downloading pytz-2023.3.post1-py2.py3-none-any.whl.metadata (22 kB)\n",
      "Collecting tzdata>=2022.1 (from pandas)\n",
      "  Downloading tzdata-2023.3-py2.py3-none-any.whl (341 kB)\n",
      "     ---------------------------------------- 0.0/341.8 kB ? eta -:--:--\n",
      "     ------------------------------- ------ 286.7/341.8 kB 8.6 MB/s eta 0:00:01\n",
      "     -------------------------------------- 341.8/341.8 kB 5.3 MB/s eta 0:00:00\n",
      "Requirement already satisfied: six>=1.5 in c:\\users\\sulic\\anaconda3\\envs\\pythonproject\\lib\\site-packages (from python-dateutil>=2.8.2->pandas) (1.16.0)\n",
      "Downloading pandas-2.1.2-cp310-cp310-win_amd64.whl (10.7 MB)\n",
      "   ---------------------------------------- 0.0/10.7 MB ? eta -:--:--\n",
      "   - -------------------------------------- 0.4/10.7 MB 10.9 MB/s eta 0:00:01\n",
      "   -- ------------------------------------- 0.7/10.7 MB 9.1 MB/s eta 0:00:02\n",
      "   ---- ----------------------------------- 1.1/10.7 MB 10.0 MB/s eta 0:00:01\n",
      "   ----- ---------------------------------- 1.5/10.7 MB 9.3 MB/s eta 0:00:01\n",
      "   ------ --------------------------------- 1.8/10.7 MB 9.0 MB/s eta 0:00:01\n",
      "   -------- ------------------------------- 2.1/10.7 MB 9.1 MB/s eta 0:00:01\n",
      "   --------- ------------------------------ 2.5/10.7 MB 8.9 MB/s eta 0:00:01\n",
      "   ---------- ----------------------------- 2.9/10.7 MB 8.9 MB/s eta 0:00:01\n",
      "   ------------ --------------------------- 3.2/10.7 MB 8.9 MB/s eta 0:00:01\n",
      "   ------------- -------------------------- 3.6/10.7 MB 8.9 MB/s eta 0:00:01\n",
      "   -------------- ------------------------- 4.0/10.7 MB 9.0 MB/s eta 0:00:01\n",
      "   --------------- ------------------------ 4.3/10.7 MB 8.8 MB/s eta 0:00:01\n",
      "   ----------------- ---------------------- 4.6/10.7 MB 9.0 MB/s eta 0:00:01\n",
      "   ------------------ --------------------- 5.0/10.7 MB 8.8 MB/s eta 0:00:01\n",
      "   ------------------- -------------------- 5.3/10.7 MB 8.9 MB/s eta 0:00:01\n",
      "   --------------------- ------------------ 5.7/10.7 MB 8.9 MB/s eta 0:00:01\n",
      "   ---------------------- ----------------- 6.1/10.7 MB 8.8 MB/s eta 0:00:01\n",
      "   ------------------------ --------------- 6.4/10.7 MB 8.9 MB/s eta 0:00:01\n",
      "   ------------------------- -------------- 6.8/10.7 MB 8.8 MB/s eta 0:00:01\n",
      "   -------------------------- ------------- 7.1/10.7 MB 8.8 MB/s eta 0:00:01\n",
      "   ---------------------------- ----------- 7.5/10.7 MB 8.9 MB/s eta 0:00:01\n",
      "   ----------------------------- ---------- 7.9/10.7 MB 8.8 MB/s eta 0:00:01\n",
      "   ------------------------------ --------- 8.3/10.7 MB 8.8 MB/s eta 0:00:01\n",
      "   -------------------------------- ------- 8.6/10.7 MB 8.9 MB/s eta 0:00:01\n",
      "   --------------------------------- ------ 8.9/10.7 MB 8.8 MB/s eta 0:00:01\n",
      "   ---------------------------------- ----- 9.3/10.7 MB 8.8 MB/s eta 0:00:01\n",
      "   ------------------------------------ --- 9.7/10.7 MB 8.8 MB/s eta 0:00:01\n",
      "   ------------------------------------- -- 10.0/10.7 MB 8.9 MB/s eta 0:00:01\n",
      "   -------------------------------------- - 10.3/10.7 MB 8.7 MB/s eta 0:00:01\n",
      "   ---------------------------------------  10.7/10.7 MB 8.8 MB/s eta 0:00:01\n",
      "   ---------------------------------------- 10.7/10.7 MB 8.5 MB/s eta 0:00:00\n",
      "Downloading numpy-1.26.1-cp310-cp310-win_amd64.whl (15.8 MB)\n",
      "   ---------------------------------------- 0.0/15.8 MB ? eta -:--:--\n",
      "    --------------------------------------- 0.4/15.8 MB 11.6 MB/s eta 0:00:02\n",
      "   - -------------------------------------- 0.7/15.8 MB 8.9 MB/s eta 0:00:02\n",
      "   -- ------------------------------------- 1.1/15.8 MB 9.7 MB/s eta 0:00:02\n",
      "   --- ------------------------------------ 1.5/15.8 MB 9.3 MB/s eta 0:00:02\n",
      "   ---- ----------------------------------- 1.8/15.8 MB 9.5 MB/s eta 0:00:02\n",
      "   ----- ---------------------------------- 2.1/15.8 MB 9.1 MB/s eta 0:00:02\n",
      "   ------ --------------------------------- 2.5/15.8 MB 9.0 MB/s eta 0:00:02\n",
      "   ------- -------------------------------- 2.9/15.8 MB 8.9 MB/s eta 0:00:02\n",
      "   -------- ------------------------------- 3.2/15.8 MB 9.0 MB/s eta 0:00:02\n",
      "   --------- ------------------------------ 3.6/15.8 MB 8.9 MB/s eta 0:00:02\n",
      "   ---------- ----------------------------- 4.0/15.8 MB 9.0 MB/s eta 0:00:02\n",
      "   ---------- ----------------------------- 4.3/15.8 MB 8.9 MB/s eta 0:00:02\n",
      "   ----------- ---------------------------- 4.7/15.8 MB 8.9 MB/s eta 0:00:02\n",
      "   ------------ --------------------------- 5.1/15.8 MB 9.0 MB/s eta 0:00:02\n",
      "   ------------- -------------------------- 5.2/15.8 MB 9.0 MB/s eta 0:00:02\n",
      "   -------------- ------------------------- 5.5/15.8 MB 8.4 MB/s eta 0:00:02\n",
      "   --------------- ------------------------ 5.9/15.8 MB 8.4 MB/s eta 0:00:02\n",
      "   --------------- ------------------------ 6.3/15.8 MB 8.6 MB/s eta 0:00:02\n",
      "   ---------------- ----------------------- 6.6/15.8 MB 8.5 MB/s eta 0:00:02\n",
      "   ----------------- ---------------------- 7.1/15.8 MB 8.5 MB/s eta 0:00:02\n",
      "   ------------------- -------------------- 7.5/15.8 MB 8.6 MB/s eta 0:00:01\n",
      "   -------------------- ------------------- 7.9/15.8 MB 8.6 MB/s eta 0:00:01\n",
      "   -------------------- ------------------- 8.2/15.8 MB 8.6 MB/s eta 0:00:01\n",
      "   --------------------- ------------------ 8.6/15.8 MB 8.6 MB/s eta 0:00:01\n",
      "   ---------------------- ----------------- 8.9/15.8 MB 8.6 MB/s eta 0:00:01\n",
      "   ----------------------- ---------------- 9.3/15.8 MB 8.6 MB/s eta 0:00:01\n",
      "   ------------------------ --------------- 9.6/15.8 MB 8.5 MB/s eta 0:00:01\n",
      "   ------------------------- -------------- 9.9/15.8 MB 8.6 MB/s eta 0:00:01\n",
      "   -------------------------- ------------- 10.3/15.8 MB 8.5 MB/s eta 0:00:01\n",
      "   -------------------------- ------------- 10.7/15.8 MB 8.6 MB/s eta 0:00:01\n",
      "   --------------------------- ------------ 11.0/15.8 MB 8.5 MB/s eta 0:00:01\n",
      "   ---------------------------- ----------- 11.4/15.8 MB 8.5 MB/s eta 0:00:01\n",
      "   ----------------------------- ---------- 11.7/15.8 MB 8.5 MB/s eta 0:00:01\n",
      "   ------------------------------ --------- 12.1/15.8 MB 8.5 MB/s eta 0:00:01\n",
      "   ------------------------------- -------- 12.5/15.8 MB 8.5 MB/s eta 0:00:01\n",
      "   -------------------------------- ------- 12.8/15.8 MB 8.5 MB/s eta 0:00:01\n",
      "   --------------------------------- ------ 13.2/15.8 MB 8.5 MB/s eta 0:00:01\n",
      "   ---------------------------------- ----- 13.5/15.8 MB 8.5 MB/s eta 0:00:01\n",
      "   ----------------------------------- ---- 13.9/15.8 MB 8.6 MB/s eta 0:00:01\n",
      "   ------------------------------------ --- 14.3/15.8 MB 8.5 MB/s eta 0:00:01\n",
      "   ------------------------------------- -- 14.7/15.8 MB 8.5 MB/s eta 0:00:01\n",
      "   -------------------------------------- - 15.0/15.8 MB 8.5 MB/s eta 0:00:01\n",
      "   ---------------------------------------  15.6/15.8 MB 8.7 MB/s eta 0:00:01\n",
      "   ---------------------------------------  15.8/15.8 MB 9.0 MB/s eta 0:00:01\n",
      "   ---------------------------------------- 15.8/15.8 MB 8.6 MB/s eta 0:00:00\n",
      "Downloading pytz-2023.3.post1-py2.py3-none-any.whl (502 kB)\n",
      "   ---------------------------------------- 0.0/502.5 kB ? eta -:--:--\n",
      "   --------------------------------------- 502.5/502.5 kB 30.8 MB/s eta 0:00:00\n",
      "Installing collected packages: pytz, tzdata, numpy, pandas\n",
      "Successfully installed numpy-1.26.1 pandas-2.1.2 pytz-2023.3.post1 tzdata-2023.3\n",
      "Note: you may need to restart the kernel to use updated packages.\n"
     ]
    },
    {
     "data": {
      "text/html": [
       "<div>\n",
       "<style scoped>\n",
       "    .dataframe tbody tr th:only-of-type {\n",
       "        vertical-align: middle;\n",
       "    }\n",
       "\n",
       "    .dataframe tbody tr th {\n",
       "        vertical-align: top;\n",
       "    }\n",
       "\n",
       "    .dataframe thead th {\n",
       "        text-align: right;\n",
       "    }\n",
       "</style>\n",
       "<table border=\"1\" class=\"dataframe\">\n",
       "  <thead>\n",
       "    <tr style=\"text-align: right;\">\n",
       "      <th></th>\n",
       "      <th>index</th>\n",
       "      <th>PatientID</th>\n",
       "      <th>age</th>\n",
       "      <th>gender</th>\n",
       "      <th>bmi</th>\n",
       "      <th>bloodpressure</th>\n",
       "      <th>diabetic</th>\n",
       "      <th>children</th>\n",
       "      <th>smoker</th>\n",
       "      <th>region</th>\n",
       "      <th>claim</th>\n",
       "    </tr>\n",
       "  </thead>\n",
       "  <tbody>\n",
       "    <tr>\n",
       "      <th>0</th>\n",
       "      <td>0</td>\n",
       "      <td>1</td>\n",
       "      <td>39.0</td>\n",
       "      <td>male</td>\n",
       "      <td>23.2</td>\n",
       "      <td>91</td>\n",
       "      <td>Yes</td>\n",
       "      <td>0</td>\n",
       "      <td>No</td>\n",
       "      <td>southeast</td>\n",
       "      <td>1121.87</td>\n",
       "    </tr>\n",
       "    <tr>\n",
       "      <th>1</th>\n",
       "      <td>1</td>\n",
       "      <td>2</td>\n",
       "      <td>24.0</td>\n",
       "      <td>male</td>\n",
       "      <td>30.1</td>\n",
       "      <td>87</td>\n",
       "      <td>No</td>\n",
       "      <td>0</td>\n",
       "      <td>No</td>\n",
       "      <td>southeast</td>\n",
       "      <td>1131.51</td>\n",
       "    </tr>\n",
       "    <tr>\n",
       "      <th>2</th>\n",
       "      <td>2</td>\n",
       "      <td>3</td>\n",
       "      <td>NaN</td>\n",
       "      <td>male</td>\n",
       "      <td>33.3</td>\n",
       "      <td>82</td>\n",
       "      <td>Yes</td>\n",
       "      <td>0</td>\n",
       "      <td>No</td>\n",
       "      <td>southeast</td>\n",
       "      <td>1135.94</td>\n",
       "    </tr>\n",
       "    <tr>\n",
       "      <th>3</th>\n",
       "      <td>3</td>\n",
       "      <td>4</td>\n",
       "      <td>NaN</td>\n",
       "      <td>male</td>\n",
       "      <td>33.7</td>\n",
       "      <td>80</td>\n",
       "      <td>No</td>\n",
       "      <td>0</td>\n",
       "      <td>No</td>\n",
       "      <td>northwest</td>\n",
       "      <td>1136.40</td>\n",
       "    </tr>\n",
       "    <tr>\n",
       "      <th>4</th>\n",
       "      <td>4</td>\n",
       "      <td>5</td>\n",
       "      <td>NaN</td>\n",
       "      <td>male</td>\n",
       "      <td>34.1</td>\n",
       "      <td>100</td>\n",
       "      <td>No</td>\n",
       "      <td>0</td>\n",
       "      <td>No</td>\n",
       "      <td>northwest</td>\n",
       "      <td>1137.01</td>\n",
       "    </tr>\n",
       "  </tbody>\n",
       "</table>\n",
       "</div>"
      ],
      "text/plain": [
       "   index  PatientID   age gender   bmi  bloodpressure diabetic  children  \\\n",
       "0      0          1  39.0   male  23.2             91      Yes         0   \n",
       "1      1          2  24.0   male  30.1             87       No         0   \n",
       "2      2          3   NaN   male  33.3             82      Yes         0   \n",
       "3      3          4   NaN   male  33.7             80       No         0   \n",
       "4      4          5   NaN   male  34.1            100       No         0   \n",
       "\n",
       "  smoker     region    claim  \n",
       "0     No  southeast  1121.87  \n",
       "1     No  southeast  1131.51  \n",
       "2     No  southeast  1135.94  \n",
       "3     No  northwest  1136.40  \n",
       "4     No  northwest  1137.01  "
      ]
     },
     "execution_count": 12,
     "metadata": {},
     "output_type": "execute_result"
    }
   ],
   "source": [
    "# loading data\n",
    "%pip install pandas\n",
    "import pandas as pd\n",
    "\n",
    "# Load the dataset\n",
    "data = pd.read_csv('/Insurance Claim.csv')\n",
    "\n",
    "# Display the first few rows of the dataset\n",
    "data.head()\n"
   ]
  },
  {
   "cell_type": "code",
   "execution_count": null,
   "metadata": {},
   "outputs": [],
   "source": [
    "# For our multivariate linear regression analysis, we'll focus on the columns: bmi, bloodpressure, smoker, region, and claim.\n",
    "# Now, let's proceed with the following steps:\n",
    "# Remove any null values from the dataset.\n",
    "# Remove outliers using the IQR method for the columns: bmi and bloodpressure (assuming we are only considering numerical columns for outlier removal)."
   ]
  },
  {
   "cell_type": "code",
   "execution_count": 13,
   "metadata": {},
   "outputs": [
    {
     "data": {
      "text/plain": [
       "(1340, 1337)"
      ]
     },
     "execution_count": 13,
     "metadata": {},
     "output_type": "execute_result"
    }
   ],
   "source": [
    "# Remove rows with null values in the specified columns\n",
    "data_cleaned = data[['bmi', 'bloodpressure', 'smoker', 'region', 'claim']].dropna()\n",
    "\n",
    "# Display the shape of the original and cleaned data to see how many rows were removed\n",
    "original_shape = data.shape[0]\n",
    "cleaned_shape = data_cleaned.shape[0]\n",
    "\n",
    "original_shape, cleaned_shape\n"
   ]
  },
  {
   "cell_type": "code",
   "execution_count": 14,
   "metadata": {},
   "outputs": [
    {
     "data": {
      "text/plain": [
       "1267"
      ]
     },
     "execution_count": 14,
     "metadata": {},
     "output_type": "execute_result"
    }
   ],
   "source": [
    "def remove_outliers_iqr(df, column):\n",
    "    \"\"\"Remove outliers using IQR method for a specified column.\"\"\"\n",
    "    Q1 = df[column].quantile(0.25)\n",
    "    Q3 = df[column].quantile(0.75)\n",
    "    IQR = Q3 - Q1\n",
    "    lower_bound = Q1 - 1.5 * IQR\n",
    "    upper_bound = Q3 + 1.5 * IQR\n",
    "    return df[(df[column] >= lower_bound) & (df[column] <= upper_bound)]\n",
    "\n",
    "# Remove outliers for 'bmi' and 'bloodpressure' columns\n",
    "data_cleaned = remove_outliers_iqr(data_cleaned, 'bmi')\n",
    "data_cleaned = remove_outliers_iqr(data_cleaned, 'bloodpressure')\n",
    "\n",
    "# Display the shape of the data after outlier removal\n",
    "data_cleaned.shape[0]\n"
   ]
  },
  {
   "cell_type": "code",
   "execution_count": 17,
   "metadata": {},
   "outputs": [
    {
     "name": "stdout",
     "output_type": "stream",
     "text": [
      "Requirement already satisfied: statsmodels in c:\\users\\sulic\\anaconda3\\envs\\pythonproject\\lib\\site-packages (0.14.0)\n",
      "Requirement already satisfied: numpy>=1.18 in c:\\users\\sulic\\anaconda3\\envs\\pythonproject\\lib\\site-packages (from statsmodels) (1.26.1)\n",
      "Requirement already satisfied: scipy!=1.9.2,>=1.4 in c:\\users\\sulic\\anaconda3\\envs\\pythonproject\\lib\\site-packages (from statsmodels) (1.11.3)\n",
      "Requirement already satisfied: pandas>=1.0 in c:\\users\\sulic\\anaconda3\\envs\\pythonproject\\lib\\site-packages (from statsmodels) (2.1.2)\n",
      "Requirement already satisfied: patsy>=0.5.2 in c:\\users\\sulic\\anaconda3\\envs\\pythonproject\\lib\\site-packages (from statsmodels) (0.5.3)\n",
      "Requirement already satisfied: packaging>=21.3 in c:\\users\\sulic\\anaconda3\\envs\\pythonproject\\lib\\site-packages (from statsmodels) (23.2)\n",
      "Requirement already satisfied: python-dateutil>=2.8.2 in c:\\users\\sulic\\anaconda3\\envs\\pythonproject\\lib\\site-packages (from pandas>=1.0->statsmodels) (2.8.2)\n",
      "Requirement already satisfied: pytz>=2020.1 in c:\\users\\sulic\\anaconda3\\envs\\pythonproject\\lib\\site-packages (from pandas>=1.0->statsmodels) (2023.3.post1)\n",
      "Requirement already satisfied: tzdata>=2022.1 in c:\\users\\sulic\\anaconda3\\envs\\pythonproject\\lib\\site-packages (from pandas>=1.0->statsmodels) (2023.3)\n",
      "Requirement already satisfied: six in c:\\users\\sulic\\anaconda3\\envs\\pythonproject\\lib\\site-packages (from patsy>=0.5.2->statsmodels) (1.16.0)\n",
      "Note: you may need to restart the kernel to use updated packages.\n"
     ]
    }
   ],
   "source": [
    "%pip install statsmodels"
   ]
  },
  {
   "cell_type": "code",
   "execution_count": 48,
   "metadata": {},
   "outputs": [
    {
     "name": "stdout",
     "output_type": "stream",
     "text": [
      "       bmi  bloodpressure  smoker     claim  region_northwest  \\\n",
      "0     23.2             91       0   1121.87               0.0   \n",
      "1     30.1             87       0   1131.51               0.0   \n",
      "2     33.3             82       0   1135.94               0.0   \n",
      "3     33.7             80       0   1136.40               1.0   \n",
      "4     34.1            100       0   1137.01               1.0   \n",
      "...    ...            ...     ...       ...               ...   \n",
      "1331  41.1            104       1  48970.25               0.0   \n",
      "1335  35.5             88       1  55135.40               1.0   \n",
      "1337  34.5             91       1  60021.40               1.0   \n",
      "1338  30.4            106       1  62592.87               0.0   \n",
      "1339  47.4            101       1  63770.43               0.0   \n",
      "\n",
      "      region_southeast  region_southwest  \n",
      "0                  1.0               0.0  \n",
      "1                  1.0               0.0  \n",
      "2                  1.0               0.0  \n",
      "3                  0.0               0.0  \n",
      "4                  0.0               0.0  \n",
      "...                ...               ...  \n",
      "1331               1.0               0.0  \n",
      "1335               0.0               0.0  \n",
      "1337               0.0               0.0  \n",
      "1338               1.0               0.0  \n",
      "1339               1.0               0.0  \n",
      "\n",
      "[1267 rows x 7 columns]\n"
     ]
    }
   ],
   "source": [
    "import statsmodels.api as sm\n",
    "\n",
    "# Convert categorical variables to dummy variables\n",
    "data_encoded = pd.get_dummies(data_cleaned, dtype=float,drop_first=True)  # Drop first column to avoid multicollinearity\n",
    "\n",
    "print(data_encoded)\n"
   ]
  },
  {
   "cell_type": "code",
   "execution_count": 52,
   "metadata": {},
   "outputs": [
    {
     "data": {
      "text/html": [
       "<table class=\"simpletable\">\n",
       "<caption>OLS Regression Results</caption>\n",
       "<tr>\n",
       "  <th>Dep. Variable:</th>          <td>claim</td>      <th>  R-squared:         </th> <td>   0.637</td> \n",
       "</tr>\n",
       "<tr>\n",
       "  <th>Model:</th>                   <td>OLS</td>       <th>  Adj. R-squared:    </th> <td>   0.636</td> \n",
       "</tr>\n",
       "<tr>\n",
       "  <th>Method:</th>             <td>Least Squares</td>  <th>  F-statistic:       </th> <td>   369.0</td> \n",
       "</tr>\n",
       "<tr>\n",
       "  <th>Date:</th>             <td>Sat, 28 Oct 2023</td> <th>  Prob (F-statistic):</th> <td>2.64e-273</td>\n",
       "</tr>\n",
       "<tr>\n",
       "  <th>Time:</th>                 <td>22:56:18</td>     <th>  Log-Likelihood:    </th> <td> -12936.</td> \n",
       "</tr>\n",
       "<tr>\n",
       "  <th>No. Observations:</th>      <td>  1267</td>      <th>  AIC:               </th> <td>2.589e+04</td>\n",
       "</tr>\n",
       "<tr>\n",
       "  <th>Df Residuals:</th>          <td>  1260</td>      <th>  BIC:               </th> <td>2.592e+04</td>\n",
       "</tr>\n",
       "<tr>\n",
       "  <th>Df Model:</th>              <td>     6</td>      <th>                     </th>     <td> </td>    \n",
       "</tr>\n",
       "<tr>\n",
       "  <th>Covariance Type:</th>      <td>nonrobust</td>    <th>                     </th>     <td> </td>    \n",
       "</tr>\n",
       "</table>\n",
       "<table class=\"simpletable\">\n",
       "<tr>\n",
       "          <td></td>            <th>coef</th>     <th>std err</th>      <th>t</th>      <th>P>|t|</th>  <th>[0.025</th>    <th>0.975]</th>  \n",
       "</tr>\n",
       "<tr>\n",
       "  <th>const</th>            <td>-1.733e+04</td> <td> 2265.788</td> <td>   -7.650</td> <td> 0.000</td> <td>-2.18e+04</td> <td>-1.29e+04</td>\n",
       "</tr>\n",
       "<tr>\n",
       "  <th>bmi</th>              <td>  355.3437</td> <td>   32.117</td> <td>   11.064</td> <td> 0.000</td> <td>  292.336</td> <td>  418.352</td>\n",
       "</tr>\n",
       "<tr>\n",
       "  <th>bloodpressure</th>    <td>  183.2636</td> <td>   23.000</td> <td>    7.968</td> <td> 0.000</td> <td>  138.140</td> <td>  228.387</td>\n",
       "</tr>\n",
       "<tr>\n",
       "  <th>smoker</th>           <td> 2.086e+04</td> <td>  511.798</td> <td>   40.757</td> <td> 0.000</td> <td> 1.99e+04</td> <td> 2.19e+04</td>\n",
       "</tr>\n",
       "<tr>\n",
       "  <th>region_northwest</th> <td>-1985.7758</td> <td>  577.108</td> <td>   -3.441</td> <td> 0.001</td> <td>-3117.974</td> <td> -853.578</td>\n",
       "</tr>\n",
       "<tr>\n",
       "  <th>region_southeast</th> <td>-2786.3203</td> <td>  565.306</td> <td>   -4.929</td> <td> 0.000</td> <td>-3895.365</td> <td>-1677.276</td>\n",
       "</tr>\n",
       "<tr>\n",
       "  <th>region_southwest</th> <td>-2181.1964</td> <td>  593.799</td> <td>   -3.673</td> <td> 0.000</td> <td>-3346.140</td> <td>-1016.252</td>\n",
       "</tr>\n",
       "</table>\n",
       "<table class=\"simpletable\">\n",
       "<tr>\n",
       "  <th>Omnibus:</th>       <td>214.278</td> <th>  Durbin-Watson:     </th> <td>   1.105</td>\n",
       "</tr>\n",
       "<tr>\n",
       "  <th>Prob(Omnibus):</th> <td> 0.000</td>  <th>  Jarque-Bera (JB):  </th> <td> 425.589</td>\n",
       "</tr>\n",
       "<tr>\n",
       "  <th>Skew:</th>          <td> 0.996</td>  <th>  Prob(JB):          </th> <td>3.84e-93</td>\n",
       "</tr>\n",
       "<tr>\n",
       "  <th>Kurtosis:</th>      <td> 5.023</td>  <th>  Cond. No.          </th> <td>1.20e+03</td>\n",
       "</tr>\n",
       "</table><br/><br/>Notes:<br/>[1] Standard Errors assume that the covariance matrix of the errors is correctly specified.<br/>[2] The condition number is large, 1.2e+03. This might indicate that there are<br/>strong multicollinearity or other numerical problems."
      ],
      "text/latex": [
       "\\begin{center}\n",
       "\\begin{tabular}{lclc}\n",
       "\\toprule\n",
       "\\textbf{Dep. Variable:}    &      claim       & \\textbf{  R-squared:         } &     0.637   \\\\\n",
       "\\textbf{Model:}            &       OLS        & \\textbf{  Adj. R-squared:    } &     0.636   \\\\\n",
       "\\textbf{Method:}           &  Least Squares   & \\textbf{  F-statistic:       } &     369.0   \\\\\n",
       "\\textbf{Date:}             & Sat, 28 Oct 2023 & \\textbf{  Prob (F-statistic):} & 2.64e-273   \\\\\n",
       "\\textbf{Time:}             &     22:56:18     & \\textbf{  Log-Likelihood:    } &   -12936.   \\\\\n",
       "\\textbf{No. Observations:} &        1267      & \\textbf{  AIC:               } & 2.589e+04   \\\\\n",
       "\\textbf{Df Residuals:}     &        1260      & \\textbf{  BIC:               } & 2.592e+04   \\\\\n",
       "\\textbf{Df Model:}         &           6      & \\textbf{                     } &             \\\\\n",
       "\\textbf{Covariance Type:}  &    nonrobust     & \\textbf{                     } &             \\\\\n",
       "\\bottomrule\n",
       "\\end{tabular}\n",
       "\\begin{tabular}{lcccccc}\n",
       "                           & \\textbf{coef} & \\textbf{std err} & \\textbf{t} & \\textbf{P$> |$t$|$} & \\textbf{[0.025} & \\textbf{0.975]}  \\\\\n",
       "\\midrule\n",
       "\\textbf{const}             &   -1.733e+04  &     2265.788     &    -7.650  &         0.000        &    -2.18e+04    &    -1.29e+04     \\\\\n",
       "\\textbf{bmi}               &     355.3437  &       32.117     &    11.064  &         0.000        &      292.336    &      418.352     \\\\\n",
       "\\textbf{bloodpressure}     &     183.2636  &       23.000     &     7.968  &         0.000        &      138.140    &      228.387     \\\\\n",
       "\\textbf{smoker}            &    2.086e+04  &      511.798     &    40.757  &         0.000        &     1.99e+04    &     2.19e+04     \\\\\n",
       "\\textbf{region\\_northwest} &   -1985.7758  &      577.108     &    -3.441  &         0.001        &    -3117.974    &     -853.578     \\\\\n",
       "\\textbf{region\\_southeast} &   -2786.3203  &      565.306     &    -4.929  &         0.000        &    -3895.365    &    -1677.276     \\\\\n",
       "\\textbf{region\\_southwest} &   -2181.1964  &      593.799     &    -3.673  &         0.000        &    -3346.140    &    -1016.252     \\\\\n",
       "\\bottomrule\n",
       "\\end{tabular}\n",
       "\\begin{tabular}{lclc}\n",
       "\\textbf{Omnibus:}       & 214.278 & \\textbf{  Durbin-Watson:     } &    1.105  \\\\\n",
       "\\textbf{Prob(Omnibus):} &   0.000 & \\textbf{  Jarque-Bera (JB):  } &  425.589  \\\\\n",
       "\\textbf{Skew:}          &   0.996 & \\textbf{  Prob(JB):          } & 3.84e-93  \\\\\n",
       "\\textbf{Kurtosis:}      &   5.023 & \\textbf{  Cond. No.          } & 1.20e+03  \\\\\n",
       "\\bottomrule\n",
       "\\end{tabular}\n",
       "%\\caption{OLS Regression Results}\n",
       "\\end{center}\n",
       "\n",
       "Notes: \\newline\n",
       " [1] Standard Errors assume that the covariance matrix of the errors is correctly specified. \\newline\n",
       " [2] The condition number is large, 1.2e+03. This might indicate that there are \\newline\n",
       " strong multicollinearity or other numerical problems."
      ],
      "text/plain": [
       "<class 'statsmodels.iolib.summary.Summary'>\n",
       "\"\"\"\n",
       "                            OLS Regression Results                            \n",
       "==============================================================================\n",
       "Dep. Variable:                  claim   R-squared:                       0.637\n",
       "Model:                            OLS   Adj. R-squared:                  0.636\n",
       "Method:                 Least Squares   F-statistic:                     369.0\n",
       "Date:                Sat, 28 Oct 2023   Prob (F-statistic):          2.64e-273\n",
       "Time:                        22:56:18   Log-Likelihood:                -12936.\n",
       "No. Observations:                1267   AIC:                         2.589e+04\n",
       "Df Residuals:                    1260   BIC:                         2.592e+04\n",
       "Df Model:                           6                                         \n",
       "Covariance Type:            nonrobust                                         \n",
       "====================================================================================\n",
       "                       coef    std err          t      P>|t|      [0.025      0.975]\n",
       "------------------------------------------------------------------------------------\n",
       "const            -1.733e+04   2265.788     -7.650      0.000   -2.18e+04   -1.29e+04\n",
       "bmi                355.3437     32.117     11.064      0.000     292.336     418.352\n",
       "bloodpressure      183.2636     23.000      7.968      0.000     138.140     228.387\n",
       "smoker            2.086e+04    511.798     40.757      0.000    1.99e+04    2.19e+04\n",
       "region_northwest -1985.7758    577.108     -3.441      0.001   -3117.974    -853.578\n",
       "region_southeast -2786.3203    565.306     -4.929      0.000   -3895.365   -1677.276\n",
       "region_southwest -2181.1964    593.799     -3.673      0.000   -3346.140   -1016.252\n",
       "==============================================================================\n",
       "Omnibus:                      214.278   Durbin-Watson:                   1.105\n",
       "Prob(Omnibus):                  0.000   Jarque-Bera (JB):              425.589\n",
       "Skew:                           0.996   Prob(JB):                     3.84e-93\n",
       "Kurtosis:                       5.023   Cond. No.                     1.20e+03\n",
       "==============================================================================\n",
       "\n",
       "Notes:\n",
       "[1] Standard Errors assume that the covariance matrix of the errors is correctly specified.\n",
       "[2] The condition number is large, 1.2e+03. This might indicate that there are\n",
       "strong multicollinearity or other numerical problems.\n",
       "\"\"\""
      ]
     },
     "execution_count": 52,
     "metadata": {},
     "output_type": "execute_result"
    }
   ],
   "source": [
    "# Define independent (X) and dependent (y) variables\n",
    "import numpy as np\n",
    "X = data_encoded.drop('claim', axis=1)\n",
    "y = data_encoded['claim']\n",
    "\n",
    "# Add a constant to the model (it's a best practice to include an intercept in the model)\n",
    "X = sm.add_constant(X)\n",
    "model = sm.OLS(y, X).fit()\n",
    "model.summary()"
   ]
  },
  {
   "cell_type": "code",
   "execution_count": 70,
   "metadata": {},
   "outputs": [
    {
     "name": "stdout",
     "output_type": "stream",
     "text": [
      "(1267, 7)\n",
      "      const   bmi  bloodpressure  smoker  region_northwest  region_southeast  \\\n",
      "0       1.0  23.2             91       0               0.0               1.0   \n",
      "1       1.0  30.1             87       0               0.0               1.0   \n",
      "2       1.0  33.3             82       0               0.0               1.0   \n",
      "3       1.0  33.7             80       0               1.0               0.0   \n",
      "4       1.0  34.1            100       0               1.0               0.0   \n",
      "...     ...   ...            ...     ...               ...               ...   \n",
      "1331    1.0  41.1            104       1               0.0               1.0   \n",
      "1335    1.0  35.5             88       1               1.0               0.0   \n",
      "1337    1.0  34.5             91       1               1.0               0.0   \n",
      "1338    1.0  30.4            106       1               0.0               1.0   \n",
      "1339    1.0  47.4            101       1               0.0               1.0   \n",
      "\n",
      "      region_southwest  \n",
      "0                  0.0  \n",
      "1                  0.0  \n",
      "2                  0.0  \n",
      "3                  0.0  \n",
      "4                  0.0  \n",
      "...                ...  \n",
      "1331               0.0  \n",
      "1335               0.0  \n",
      "1337               0.0  \n",
      "1338               0.0  \n",
      "1339               0.0  \n",
      "\n",
      "[1267 rows x 7 columns]\n"
     ]
    }
   ],
   "source": [
    "print(X.shape)\n",
    "print(X)"
   ]
  },
  {
   "cell_type": "code",
   "execution_count": 6,
   "metadata": {},
   "outputs": [
    {
     "name": "stdout",
     "output_type": "stream",
     "text": [
      "[1, 1, 3, 0]\n"
     ]
    }
   ],
   "source": [
    "\n",
    "import numpy as np\n",
    "\n",
    "\n",
    "def tally_preferences(ballots, rank):\n",
    "    '''\n",
    "       Calculate the frequency of a designated rank for each candidate.\n",
    "\n",
    "                Parameters:\n",
    "                        ballots: a NumPy array containing ballot data, with one row per ballot and one column per candidate\n",
    "                        rank: an integer between 1 and the total number of candidates (inclusive)\n",
    "\n",
    "                Returns:\n",
    "                         a list or a NumPy vector containing the total number of preferences at the give 'rank' for each candidate\n",
    "    '''\n",
    "    ballots_shape = ballots.shape\n",
    "    preference_fre_list = []\n",
    "\n",
    "    for candidate in range(ballots_shape[1]):\n",
    "        count = 0\n",
    "        for vote in range(ballots_shape[0]):\n",
    "            if ballots[vote,candidate] == rank:\n",
    "                count += 1\n",
    "        \n",
    "        preference_fre_list.append(count)\n",
    "    \n",
    "    return preference_fre_list\n",
    "\n",
    "ballots = np.array( [[1,2,3,4],[3,2,4,1],[2,4,3,1],[1,2,3,4],[4,3,2,1]])\n",
    "print(tally_preferences(ballots, 3))"
   ]
  },
  {
   "cell_type": "code",
   "execution_count": 8,
   "metadata": {},
   "outputs": [
    {
     "name": "stdout",
     "output_type": "stream",
     "text": [
      "[False False False False  True]\n"
     ]
    }
   ],
   "source": [
    "def select_ballots(ballots, rank, candidate):\n",
    "    '''\n",
    "    Returns a selector for all ballots which have allocated a given rank to a given candidate.\n",
    "    '''\n",
    "    # Create a bool mask: look at one candidate's column,\n",
    "    # and find all the rows where that candidate's rank is rank\n",
    "    return ballots[:, candidate] == rank\n",
    "\n",
    "print(select_ballots(ballots, 2, 2))"
   ]
  },
  {
   "cell_type": "code",
   "execution_count": 2,
   "metadata": {},
   "outputs": [
    {
     "name": "stdout",
     "output_type": "stream",
     "text": [
      "(2, 3)\n"
     ]
    }
   ],
   "source": [
    "import numpy as np\n",
    "arr = np.array([[1, 2, 3], [4, 5, 6]])\n",
    "\n",
    "# Get the shape of the array\n",
    "arr_shape = arr.shape\n",
    "print(arr_shape)  # Outputs: (3, 3)"
   ]
  },
  {
   "cell_type": "code",
   "execution_count": 76,
   "metadata": {},
   "outputs": [
    {
     "data": {
      "text/plain": [
       "<Figure size 800x600 with 0 Axes>"
      ]
     },
     "metadata": {},
     "output_type": "display_data"
    },
    {
     "data": {
      "image/png": "[encoded data removed]",
      "text/plain": [
       "<Figure size 640x480 with 1 Axes>"
      ]
     },
     "metadata": {},
     "output_type": "display_data"
    },
    {
     "data": {
      "image/png": "[encoded data removed]",
      "text/plain": [
       "<Figure size 800x600 with 1 Axes>"
      ]
     },
     "metadata": {},
     "output_type": "display_data"
    },
    {
     "ename": "TypeError",
     "evalue": "'int' object is not callable",
     "output_type": "error",
     "traceback": [
      "\u001b[1;31m---------------------------------------------------------------------------\u001b[0m",
      "\u001b[1;31mTypeError\u001b[0m                                 Traceback (most recent call last)",
      "\u001b[1;32me:\\local code\\PODA\\PODA\\PODA.ipynb Cell 11\u001b[0m line \u001b[0;36m2\n\u001b[0;32m     <a href='vscode-notebook-cell:/e%3A/local%20code/PODA/PODA/PODA.ipynb#X24sZmlsZQ%3D%3D?line=22'>23</a>\u001b[0m vif_data \u001b[39m=\u001b[39m pd\u001b[39m.\u001b[39mDataFrame()\n\u001b[0;32m     <a href='vscode-notebook-cell:/e%3A/local%20code/PODA/PODA/PODA.ipynb#X24sZmlsZQ%3D%3D?line=23'>24</a>\u001b[0m vif_data[\u001b[39m\"\u001b[39m\u001b[39mVariable\u001b[39m\u001b[39m\"\u001b[39m] \u001b[39m=\u001b[39m X\u001b[39m.\u001b[39mcolumns\n\u001b[1;32m---> <a href='vscode-notebook-cell:/e%3A/local%20code/PODA/PODA/PODA.ipynb#X24sZmlsZQ%3D%3D?line=24'>25</a>\u001b[0m vif_data[\u001b[39m\"\u001b[39m\u001b[39mVIF\u001b[39m\u001b[39m\"\u001b[39m] \u001b[39m=\u001b[39m [variance_inflation_factor(X\u001b[39m.\u001b[39mvalues, i) \u001b[39mfor\u001b[39;00m i \u001b[39min\u001b[39;00m \u001b[39mrange\u001b[39;49m(X\u001b[39m.\u001b[39;49mshape[\u001b[39m1\u001b[39;49m])]\n\u001b[0;32m     <a href='vscode-notebook-cell:/e%3A/local%20code/PODA/PODA/PODA.ipynb#X24sZmlsZQ%3D%3D?line=26'>27</a>\u001b[0m vif_data, homoscedasticity_p_value\n",
      "\u001b[1;31mTypeError\u001b[0m: 'int' object is not callable"
     ]
    }
   ],
   "source": [
    "from statsmodels.stats.diagnostic import het_goldfeldquandt\n",
    "from statsmodels.graphics.gofplots import qqplot\n",
    "from statsmodels.stats.outliers_influence import variance_inflation_factor\n",
    "\n",
    "# 3. Test for Homoscedasticity\n",
    "f_stat, p_value, _ = het_goldfeldquandt(y, X)\n",
    "homoscedasticity_p_value = p_value\n",
    "\n",
    "# 4. Q-Q plot for Normality of Residuals\n",
    "plt.figure(figsize=(8, 6))\n",
    "qqplot(residuals, line='s')\n",
    "plt.title(\"Q-Q Plot of Residuals\")\n",
    "plt.show()\n",
    "\n",
    "# 5. Histogram for Normality of Residuals\n",
    "plt.figure(figsize=(8, 6))\n",
    "sns.histplot(residuals, kde=True)\n",
    "plt.title(\"Histogram of Residuals\")\n",
    "plt.xlabel(\"Residuals\")\n",
    "plt.show()\n",
    "\n",
    "# 6. Check for Multicollinearity\n",
    "vif_data = pd.DataFrame()\n",
    "vif_data[\"Variable\"] = X.columns\n",
    "vif_data[\"VIF\"] = [variance_inflation_factor(X.values, i) for i in range(X.shape[1])]\n",
    "\n",
    "vif_data, homoscedasticity_p_value\n"
   ]
  }
 ],
 "metadata": {
  "kernelspec": {
   "display_name": "pythonProject",
   "language": "python",
   "name": "python3"
  },
  "language_info": {
   "codemirror_mode": {
    "name": "ipython",
    "version": 3
   },
   "file_extension": ".py",
   "mimetype": "text/x-python",
   "name": "python",
   "nbconvert_exporter": "python",
   "pygments_lexer": "ipython3",
   "version": "3.10.13"
  }
 },
 "nbformat": 4,
 "nbformat_minor": 2
}
